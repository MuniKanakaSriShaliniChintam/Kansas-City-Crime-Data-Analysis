{
  "nbformat": 4,
  "nbformat_minor": 0,
  "metadata": {
    "colab": {
      "name": "ICP2.ipynb",
      "provenance": [],
      "authorship_tag": "ABX9TyP0I0UqCpQc1Mkd3BHH8RmE",
      "include_colab_link": true
    },
    "kernelspec": {
      "name": "python3",
      "display_name": "Python 3"
    },
    "language_info": {
      "name": "python"
    }
  },
  "cells": [
    {
      "cell_type": "markdown",
      "metadata": {
        "id": "view-in-github",
        "colab_type": "text"
      },
      "source": [
        "<a href=\"https://colab.research.google.com/github/MuniKanakaSriShaliniChintam/Kansas-City-Crime-Data-Analysis/blob/main/ICP2.ipynb\" target=\"_parent\"><img src=\"https://colab.research.google.com/assets/colab-badge.svg\" alt=\"Open In Colab\"/></a>"
      ]
    },
    {
      "cell_type": "markdown",
      "source": [
        "question 1 "
      ],
      "metadata": {
        "id": "zlNgsIPpg-uD"
      }
    },
    {
      "cell_type": "code",
      "execution_count": 55,
      "metadata": {
        "colab": {
          "base_uri": "https://localhost:8080/"
        },
        "id": "Y1qAhsLVU37Z",
        "outputId": "65c1ee66-9bf1-4b28-e750-10f190bf6ac5"
      },
      "outputs": [
        {
          "output_type": "stream",
          "name": "stdout",
          "text": [
            "enter the lenght of the list:4\n",
            "enter the element:125\n",
            "enter the element:345\n",
            "enter the element:245\n",
            "enter the element:348\n",
            "height in centimeters : [317.5, 876.3000000000001, 622.3, 883.92]\n"
          ]
        }
      ],
      "source": [
        "n=int(input(\"enter the lenght of the list:\"))\n",
        "#let the user enter the list of heights in inches\n",
        "L1=list()\n",
        "for i in range(n):\n",
        "    L1.append(int(input(\"enter the element:\")))\n",
        "L2=list()\n",
        "#list comprehension\n",
        "L2=[2.54*i  for i in L1]\n",
        "print(\"height in centimeters :\",L2)"
      ]
    },
    {
      "cell_type": "markdown",
      "source": [
        "Question 2 \n",
        "\n",
        "\n",
        "Part 1 "
      ],
      "metadata": {
        "id": "OYP3D05LhadW"
      }
    },
    {
      "cell_type": "code",
      "source": [
        "first_name=input(\"enter the first name:\")\n",
        "last_name=input(\"enter the last name:\")\n",
        "def full_name(first,last):\n",
        "       print(\"The full name would be:\")\n",
        "       return first+' '+last\n",
        "full_name(first_name,last_name)"
      ],
      "metadata": {
        "colab": {
          "base_uri": "https://localhost:8080/",
          "height": 87
        },
        "id": "qEpuI6z4t5bI",
        "outputId": "89363368-c24a-47c5-8980-2067f1550d9b"
      },
      "execution_count": 56,
      "outputs": [
        {
          "output_type": "stream",
          "name": "stdout",
          "text": [
            "enter the first name:shalini\n",
            "enter the last name:shetti\n",
            "The full name would be:\n"
          ]
        },
        {
          "output_type": "execute_result",
          "data": {
            "application/vnd.google.colaboratory.intrinsic+json": {
              "type": "string"
            },
            "text/plain": [
              "'shalini shetti'"
            ]
          },
          "metadata": {},
          "execution_count": 56
        }
      ]
    },
    {
      "cell_type": "markdown",
      "source": [
        "Part 2"
      ],
      "metadata": {
        "id": "SbjuaFgshr_e"
      }
    },
    {
      "cell_type": "code",
      "source": [
        "def string_alternative(stlr):\n",
        "    s=stlr[::2]\n",
        "    print(\"The resulting string is:\")\n",
        "    return(s)\n",
        "string_alternative(input(\"enter the string:\"))"
      ],
      "metadata": {
        "colab": {
          "base_uri": "https://localhost:8080/",
          "height": 70
        },
        "id": "XmP_l9KV7xqX",
        "outputId": "39b7c883-06fa-4a0a-e8b4-3ac9a47dc8ae"
      },
      "execution_count": 57,
      "outputs": [
        {
          "output_type": "stream",
          "name": "stdout",
          "text": [
            "enter the string:good morning\n",
            "The resulting string is:\n"
          ]
        },
        {
          "output_type": "execute_result",
          "data": {
            "application/vnd.google.colaboratory.intrinsic+json": {
              "type": "string"
            },
            "text/plain": [
              "'go onn'"
            ]
          },
          "metadata": {},
          "execution_count": 57
        }
      ]
    },
    {
      "cell_type": "markdown",
      "source": [
        "Question 3 "
      ],
      "metadata": {
        "id": "ioLweAOhdaGs"
      }
    },
    {
      "cell_type": "code",
      "source": [
        "#we will open the input file \n",
        "input_file = open(\"input.txt\", 'r')                 \n",
        "no =dict()\n",
        "#here we are reading the lines and we are replacing them                                        \n",
        "l = input_file.readline().replace('\\n','')          \n",
        "#checking if the line is empty or not\n",
        "if(l !=\"\"):                                  \n",
        "    for i in l.split(\" \"):                      \n",
        "        get_word = (no.get(i))\n",
        "        if get_word is None:                            \n",
        "            no[i] = 1\n",
        "        else:\n",
        "            no[i] = no[i] + 1                 \n",
        "    l = input_file.readline().replace('\\n','')     \n",
        "output_file = open(\"outputfile.txt\", 'w')\n",
        "print(\"The total no of words and there count:\")\n",
        "for i in no:\n",
        "   if(i!=\"\"):\n",
        "     output_file.write(i + \": \" + str(no[i])+\"\\n\") \n",
        "     print(i, \":\", no[i])"
      ],
      "metadata": {
        "id": "5BNC2bnNIDOT",
        "colab": {
          "base_uri": "https://localhost:8080/"
        },
        "outputId": "02c59a33-906a-4c95-bc45-90a16f214e1a"
      },
      "execution_count": 58,
      "outputs": [
        {
          "output_type": "stream",
          "name": "stdout",
          "text": [
            "The total no of words and there count:\n",
            "Python : 1\n",
            "Course : 2\n",
            "Deep : 1\n",
            "Learning : 1\n"
          ]
        }
      ]
    }
  ]
}